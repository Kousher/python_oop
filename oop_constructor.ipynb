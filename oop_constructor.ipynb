{
 "cells": [
  {
   "cell_type": "code",
   "execution_count": 5,
   "metadata": {},
   "outputs": [
    {
     "name": "stdout",
     "output_type": "stream",
     "text": [
      "100\n",
      "3000\n"
     ]
    }
   ],
   "source": [
    "class Item:\n",
    "    def __init__(self, name:str, price:int, quantity:int):\n",
    "        ## This is the Magic function ##\n",
    "        \n",
    "        assert price>=0, f\"Price {price} is not equal or greater to zero\"\n",
    "        assert quantity>=0, f\"Quantity {quantity} is not equal or greater to zero\"\n",
    "\n",
    "        self.name = name\n",
    "        self.price = price\n",
    "        self.quantity = quantity  \n",
    "\n",
    "    def calculate_total_price(self):\n",
    "        return self.price * self.quantity     \n",
    "\n",
    "\n",
    "\n",
    "item1 = Item(\"Phone\",100,1)\n",
    "item2 = Item(\"Laptop\",1000,3)\n",
    "\n",
    "\n",
    "print(item1.calculate_total_price())\n",
    "print(item2.calculate_total_price())"
   ]
  },
  {
   "cell_type": "code",
   "execution_count": null,
   "metadata": {},
   "outputs": [],
   "source": []
  }
 ],
 "metadata": {
  "kernelspec": {
   "display_name": "Python 3.10.2 64-bit",
   "language": "python",
   "name": "python3"
  },
  "language_info": {
   "codemirror_mode": {
    "name": "ipython",
    "version": 3
   },
   "file_extension": ".py",
   "mimetype": "text/x-python",
   "name": "python",
   "nbconvert_exporter": "python",
   "pygments_lexer": "ipython3",
   "version": "3.10.2"
  },
  "orig_nbformat": 4,
  "vscode": {
   "interpreter": {
    "hash": "a42ccb73e7d9bfdf27e036f1d2b8b681e55fc0743cc5586bc2474d4a60f4b886"
   }
  }
 },
 "nbformat": 4,
 "nbformat_minor": 2
}
